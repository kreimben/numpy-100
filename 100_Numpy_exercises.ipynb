{
 "cells": [
  {
   "cell_type": "markdown",
   "id": "6293cc50",
   "metadata": {},
   "source": [
    "# 100 numpy exercises\n",
    "\n",
    "This is a collection of exercises that have been collected in the numpy mailing list, on stack overflow\n",
    "and in the numpy documentation. The goal of this collection is to offer a quick reference for both old\n",
    "and new users but also to provide a set of exercises for those who teach.\n",
    "\n",
    "\n",
    "If you find an error or think you've a better way to solve some of them, feel\n",
    "free to open an issue at <https://github.com/rougier/numpy-100>."
   ]
  },
  {
   "cell_type": "markdown",
   "id": "a167c052",
   "metadata": {},
   "source": [
    "File automatically generated. See the documentation to update questions/answers/hints programmatically."
   ]
  },
  {
   "cell_type": "markdown",
   "id": "57fc0ee5",
   "metadata": {},
   "source": [
    "Run the `initialize.py` module, then for each question you can query the\n",
    "answer or an hint with `hint(n)` or `answer(n)` for `n` question number."
   ]
  },
  {
   "cell_type": "code",
   "outputs": [],
   "source": [
    "from icecream import ic\n",
    "%run initialise.py"
   ],
   "metadata": {
    "collapsed": false,
    "ExecuteTime": {
     "end_time": "2024-02-08T08:11:19.321490Z",
     "start_time": "2024-02-08T08:11:19.273024Z"
    }
   },
   "id": "e71b5505ebdc6b7e",
   "execution_count": 34
  },
  {
   "cell_type": "markdown",
   "source": [
    "#### 1. Import the numpy package under the name `np` (★☆☆)"
   ],
   "metadata": {
    "collapsed": false
   },
   "id": "6cb758a22deaba9d"
  },
  {
   "cell_type": "code",
   "outputs": [],
   "source": [
    "import numpy as np"
   ],
   "metadata": {
    "collapsed": false,
    "ExecuteTime": {
     "end_time": "2024-02-08T08:09:31.645226Z",
     "start_time": "2024-02-08T08:09:31.607713Z"
    }
   },
   "id": "9141c1465ff6c709",
   "execution_count": 2
  },
  {
   "cell_type": "markdown",
   "source": [
    "#### 2. Print the numpy version and the configuration (★☆☆)"
   ],
   "metadata": {
    "collapsed": false
   },
   "id": "c989f01dd29fb249"
  },
  {
   "cell_type": "code",
   "outputs": [
    {
     "name": "stdout",
     "output_type": "stream",
     "text": [
      "Build Dependencies:\n",
      "  blas:\n",
      "    detection method: pkgconfig\n",
      "    found: true\n",
      "    include directory: /opt/arm64-builds/include\n",
      "    lib directory: /opt/arm64-builds/lib\n",
      "    name: openblas64\n",
      "    openblas configuration: USE_64BITINT=1 DYNAMIC_ARCH=1 DYNAMIC_OLDER= NO_CBLAS=\n",
      "      NO_LAPACK= NO_LAPACKE= NO_AFFINITY=1 USE_OPENMP= SANDYBRIDGE MAX_THREADS=3\n",
      "    pc file directory: /usr/local/lib/pkgconfig\n",
      "    version: 0.3.23.dev\n",
      "  lapack:\n",
      "    detection method: internal\n",
      "    found: true\n",
      "    include directory: unknown\n",
      "    lib directory: unknown\n",
      "    name: dep4335021056\n",
      "    openblas configuration: unknown\n",
      "    pc file directory: unknown\n",
      "    version: 1.26.4\n",
      "Compilers:\n",
      "  c:\n",
      "    args: -fno-strict-aliasing, -DBLAS_SYMBOL_SUFFIX=64_, -DHAVE_BLAS_ILP64\n",
      "    commands: cc\n",
      "    linker: ld64\n",
      "    linker args: -fno-strict-aliasing, -DBLAS_SYMBOL_SUFFIX=64_, -DHAVE_BLAS_ILP64\n",
      "    name: clang\n",
      "    version: 14.0.0\n",
      "  c++:\n",
      "    args: -DBLAS_SYMBOL_SUFFIX=64_, -DHAVE_BLAS_ILP64\n",
      "    commands: c++\n",
      "    linker: ld64\n",
      "    linker args: -DBLAS_SYMBOL_SUFFIX=64_, -DHAVE_BLAS_ILP64\n",
      "    name: clang\n",
      "    version: 14.0.0\n",
      "  cython:\n",
      "    commands: cython\n",
      "    linker: cython\n",
      "    name: cython\n",
      "    version: 3.0.8\n",
      "Machine Information:\n",
      "  build:\n",
      "    cpu: aarch64\n",
      "    endian: little\n",
      "    family: aarch64\n",
      "    system: darwin\n",
      "  host:\n",
      "    cpu: aarch64\n",
      "    endian: little\n",
      "    family: aarch64\n",
      "    system: darwin\n",
      "Python Information:\n",
      "  path: /private/var/folders/76/zy5ktkns50v6gt5g8r0sf6sc0000gn/T/cibw-run-q69bfk1p/cp312-macosx_arm64/build/venv/bin/python\n",
      "  version: '3.12'\n",
      "SIMD Extensions:\n",
      "  baseline:\n",
      "  - NEON\n",
      "  - NEON_FP16\n",
      "  - NEON_VFPV4\n",
      "  - ASIMD\n",
      "  found:\n",
      "  - ASIMDHP\n",
      "  not found:\n",
      "  - ASIMDFHM\n"
     ]
    },
    {
     "data": {
      "text/plain": "('1.26.4', None)"
     },
     "execution_count": 3,
     "metadata": {},
     "output_type": "execute_result"
    }
   ],
   "source": [
    "np.__version__, np.show_config()"
   ],
   "metadata": {
    "collapsed": false,
    "ExecuteTime": {
     "end_time": "2024-02-08T08:09:31.715004Z",
     "start_time": "2024-02-08T08:09:31.636205Z"
    }
   },
   "id": "7ef5fa4eb2124ea5",
   "execution_count": 3
  },
  {
   "cell_type": "markdown",
   "source": [
    "#### 3. Create a null vector of size 10 (★☆☆)"
   ],
   "metadata": {
    "collapsed": false
   },
   "id": "d23cb2041073d87a"
  },
  {
   "cell_type": "code",
   "outputs": [],
   "source": [
    "a = np.zeros(10)"
   ],
   "metadata": {
    "collapsed": false,
    "ExecuteTime": {
     "end_time": "2024-02-08T08:09:31.743530Z",
     "start_time": "2024-02-08T08:09:31.709927Z"
    }
   },
   "id": "d3eaa876b7679a2e",
   "execution_count": 4
  },
  {
   "cell_type": "markdown",
   "source": [
    "#### 4. How to find the memory size of any array (★☆☆)"
   ],
   "metadata": {
    "collapsed": false
   },
   "id": "4706f23fa853052d"
  },
  {
   "cell_type": "code",
   "outputs": [
    {
     "data": {
      "text/plain": "(8, 10)"
     },
     "execution_count": 5,
     "metadata": {},
     "output_type": "execute_result"
    }
   ],
   "source": [
    "a.itemsize, a.size"
   ],
   "metadata": {
    "collapsed": false,
    "ExecuteTime": {
     "end_time": "2024-02-08T08:09:31.829229Z",
     "start_time": "2024-02-08T08:09:31.732501Z"
    }
   },
   "id": "201a06f3886032ba",
   "execution_count": 5
  },
  {
   "cell_type": "markdown",
   "source": [
    "#### 5. How to get the documentation of the numpy add function from the command line? (★☆☆)"
   ],
   "metadata": {
    "collapsed": false
   },
   "id": "ed5d8c60dbe92bc5"
  },
  {
   "cell_type": "code",
   "outputs": [
    {
     "name": "stdout",
     "output_type": "stream",
     "text": [
      "add(x1, x2, /, out=None, *, where=True, casting='same_kind', order='K', dtype=None, subok=True[, signature, extobj])\n",
      "\n",
      "Add arguments element-wise.\n",
      "\n",
      "Parameters\n",
      "----------\n",
      "x1, x2 : array_like\n",
      "    The arrays to be added.\n",
      "    If ``x1.shape != x2.shape``, they must be broadcastable to a common\n",
      "    shape (which becomes the shape of the output).\n",
      "out : ndarray, None, or tuple of ndarray and None, optional\n",
      "    A location into which the result is stored. If provided, it must have\n",
      "    a shape that the inputs broadcast to. If not provided or None,\n",
      "    a freshly-allocated array is returned. A tuple (possible only as a\n",
      "    keyword argument) must have length equal to the number of outputs.\n",
      "where : array_like, optional\n",
      "    This condition is broadcast over the input. At locations where the\n",
      "    condition is True, the `out` array will be set to the ufunc result.\n",
      "    Elsewhere, the `out` array will retain its original value.\n",
      "    Note that if an uninitialized `out` array is created via the default\n",
      "    ``out=None``, locations within it where the condition is False will\n",
      "    remain uninitialized.\n",
      "**kwargs\n",
      "    For other keyword-only arguments, see the\n",
      "    :ref:`ufunc docs <ufuncs.kwargs>`.\n",
      "\n",
      "Returns\n",
      "-------\n",
      "add : ndarray or scalar\n",
      "    The sum of `x1` and `x2`, element-wise.\n",
      "    This is a scalar if both `x1` and `x2` are scalars.\n",
      "\n",
      "Notes\n",
      "-----\n",
      "Equivalent to `x1` + `x2` in terms of array broadcasting.\n",
      "\n",
      "Examples\n",
      "--------\n",
      ">>> np.add(1.0, 4.0)\n",
      "5.0\n",
      ">>> x1 = np.arange(9.0).reshape((3, 3))\n",
      ">>> x2 = np.arange(3.0)\n",
      ">>> np.add(x1, x2)\n",
      "array([[  0.,   2.,   4.],\n",
      "       [  3.,   5.,   7.],\n",
      "       [  6.,   8.,  10.]])\n",
      "\n",
      "The ``+`` operator can be used as a shorthand for ``np.add`` on ndarrays.\n",
      "\n",
      ">>> x1 = np.arange(9.0).reshape((3, 3))\n",
      ">>> x2 = np.arange(3.0)\n",
      ">>> x1 + x2\n",
      "array([[ 0.,  2.,  4.],\n",
      "       [ 3.,  5.,  7.],\n",
      "       [ 6.,  8., 10.]])\n"
     ]
    }
   ],
   "source": [
    "# np.add??\n",
    "np.info(np.add)"
   ],
   "metadata": {
    "collapsed": false,
    "ExecuteTime": {
     "end_time": "2024-02-08T08:09:31.876136Z",
     "start_time": "2024-02-08T08:09:31.772071Z"
    }
   },
   "id": "5fb13a83c39f9c54",
   "execution_count": 6
  },
  {
   "cell_type": "markdown",
   "source": [
    "#### 6. Create a null vector of size 10 but the fifth value which is 1 (★☆☆)"
   ],
   "metadata": {
    "collapsed": false
   },
   "id": "a1ec26d8d3ef7b1c"
  },
  {
   "cell_type": "code",
   "outputs": [
    {
     "data": {
      "text/plain": "array([0., 0., 0., 0., 1., 0., 0., 0., 0., 0.])"
     },
     "execution_count": 7,
     "metadata": {},
     "output_type": "execute_result"
    }
   ],
   "source": [
    "a[4] = 1\n",
    "a"
   ],
   "metadata": {
    "collapsed": false,
    "ExecuteTime": {
     "end_time": "2024-02-08T08:09:31.967151Z",
     "start_time": "2024-02-08T08:09:31.870245Z"
    }
   },
   "id": "3c5c4cd4cd010cde",
   "execution_count": 7
  },
  {
   "cell_type": "markdown",
   "source": [
    "#### 7. Create a vector with values ranging from 10 to 49 (★☆☆)"
   ],
   "metadata": {
    "collapsed": false
   },
   "id": "b1d9c2953ec7f1c7"
  },
  {
   "cell_type": "code",
   "outputs": [
    {
     "data": {
      "text/plain": "array([10, 11, 12, 13, 14, 15, 16, 17, 18, 19, 20, 21, 22, 23, 24, 25, 26,\n       27, 28, 29, 30, 31, 32, 33, 34, 35, 36, 37, 38, 39, 40, 41, 42, 43,\n       44, 45, 46, 47, 48, 49])"
     },
     "execution_count": 8,
     "metadata": {},
     "output_type": "execute_result"
    }
   ],
   "source": [
    "np.arange(10, 50)"
   ],
   "metadata": {
    "collapsed": false,
    "ExecuteTime": {
     "end_time": "2024-02-08T08:09:31.995094Z",
     "start_time": "2024-02-08T08:09:31.957559Z"
    }
   },
   "id": "f06fd14680e64903",
   "execution_count": 8
  },
  {
   "cell_type": "markdown",
   "source": [
    "#### 8. Reverse a vector (first element becomes last) (★☆☆)"
   ],
   "metadata": {
    "collapsed": false
   },
   "id": "77aa4b76e03762d8"
  },
  {
   "cell_type": "code",
   "outputs": [
    {
     "data": {
      "text/plain": "array([9, 8, 7, 6, 5, 4, 3, 2, 1, 0])"
     },
     "execution_count": 9,
     "metadata": {},
     "output_type": "execute_result"
    }
   ],
   "source": [
    "a = np.arange(0, 10)\n",
    "a[::-1]"
   ],
   "metadata": {
    "collapsed": false,
    "ExecuteTime": {
     "end_time": "2024-02-08T08:09:32.072733Z",
     "start_time": "2024-02-08T08:09:31.989678Z"
    }
   },
   "id": "42b32d637356d88f",
   "execution_count": 9
  },
  {
   "cell_type": "markdown",
   "source": [
    "#### 9. Create a 3x3 matrix with values ranging from 0 to 8 (★☆☆)"
   ],
   "metadata": {
    "collapsed": false
   },
   "id": "3655e79b3a754a2e"
  },
  {
   "cell_type": "code",
   "outputs": [
    {
     "data": {
      "text/plain": "array([[0, 1, 2],\n       [3, 4, 5],\n       [6, 7, 8]])"
     },
     "execution_count": 10,
     "metadata": {},
     "output_type": "execute_result"
    }
   ],
   "source": [
    "a = np.arange(9)\n",
    "a.reshape((3, 3))"
   ],
   "metadata": {
    "collapsed": false,
    "ExecuteTime": {
     "end_time": "2024-02-08T08:09:32.115219Z",
     "start_time": "2024-02-08T08:09:32.072130Z"
    }
   },
   "id": "7a4576b7e6b85d24",
   "execution_count": 10
  },
  {
   "cell_type": "markdown",
   "source": [
    "#### 10. Find indices of non-zero elements from [1,2,0,0,4,0] (★☆☆)"
   ],
   "metadata": {
    "collapsed": false
   },
   "id": "be676574bb380c6"
  },
  {
   "cell_type": "code",
   "outputs": [
    {
     "data": {
      "text/plain": "(array([0, 1, 4]),)"
     },
     "execution_count": 11,
     "metadata": {},
     "output_type": "execute_result"
    }
   ],
   "source": [
    "a = np.array([1, 2, 0, 0, 4, 0])\n",
    "a.nonzero()"
   ],
   "metadata": {
    "collapsed": false,
    "ExecuteTime": {
     "end_time": "2024-02-08T08:09:32.185589Z",
     "start_time": "2024-02-08T08:09:32.103341Z"
    }
   },
   "id": "93f7d0f42e6c5092",
   "execution_count": 11
  },
  {
   "cell_type": "markdown",
   "source": [
    "#### 11. Create a 3x3 identity matrix (★☆☆)"
   ],
   "metadata": {
    "collapsed": false
   },
   "id": "662f6bcafc417036"
  },
  {
   "cell_type": "code",
   "outputs": [
    {
     "data": {
      "text/plain": "array([[1., 0., 0.],\n       [0., 1., 0.],\n       [0., 0., 1.]])"
     },
     "execution_count": 12,
     "metadata": {},
     "output_type": "execute_result"
    }
   ],
   "source": [
    "np.eye(3, 3)"
   ],
   "metadata": {
    "collapsed": false,
    "ExecuteTime": {
     "end_time": "2024-02-08T08:09:32.227811Z",
     "start_time": "2024-02-08T08:09:32.168931Z"
    }
   },
   "id": "cf0b76e647ce3ffc",
   "execution_count": 12
  },
  {
   "cell_type": "markdown",
   "source": [
    "#### 12. Create a 3x3x3 array with random values (★☆☆)"
   ],
   "metadata": {
    "collapsed": false
   },
   "id": "a9de1092ea61ac08"
  },
  {
   "cell_type": "code",
   "outputs": [
    {
     "data": {
      "text/plain": "(array([[[-0.23203238,  0.825478  , -0.3939889 ],\n         [ 0.69506114, -0.89882771, -1.05551318],\n         [ 1.1481575 ,  1.38354577,  0.03881669]],\n \n        [[ 0.47648161, -0.810811  ,  1.06063866],\n         [ 1.01744173, -1.16408433,  0.02493953],\n         [-0.4763937 ,  0.28083498, -0.4408624 ]],\n \n        [[-0.53281653,  1.70224485, -2.12030131],\n         [-1.57389861, -0.15509173, -0.329128  ],\n         [-0.32433791, -1.82233518, -0.10320942]]]),\n array([[[0.09094481, 0.39405505, 0.9401876 ],\n         [0.87584893, 0.51290838, 0.80066032],\n         [0.466865  , 0.92939967, 0.48111593]],\n \n        [[0.07035584, 0.05876097, 0.08314076],\n         [0.90913907, 0.89760179, 0.69104627],\n         [0.40380757, 0.36177267, 0.16733109]],\n \n        [[0.39207424, 0.72926113, 0.05537083],\n         [0.53028656, 0.63967102, 0.66975405],\n         [0.71870487, 0.42199465, 0.21623667]]]),\n array([[[0.36832881, 0.9794568 , 0.74055328],\n         [0.36431321, 0.52012586, 0.71763619],\n         [0.9768338 , 0.20160646, 0.88775181]],\n \n        [[0.91051778, 0.61800771, 0.61962702],\n         [0.53290376, 0.40956323, 0.76327927],\n         [0.91811187, 0.36813958, 0.65460144]],\n \n        [[0.34860995, 0.7301044 , 0.65650287],\n         [0.10937952, 0.22659513, 0.04276328],\n         [0.0439044 , 0.6031667 , 0.08146279]]]))"
     },
     "execution_count": 13,
     "metadata": {},
     "output_type": "execute_result"
    }
   ],
   "source": [
    "np.random.randn(3, 3, 3), np.random.rand(3, 3, 3), np.random.random((3, 3, 3))"
   ],
   "metadata": {
    "collapsed": false,
    "ExecuteTime": {
     "end_time": "2024-02-08T08:09:32.314281Z",
     "start_time": "2024-02-08T08:09:32.217099Z"
    }
   },
   "id": "ad766eded6468c93",
   "execution_count": 13
  },
  {
   "cell_type": "markdown",
   "source": [
    "#### 13. Create a 10x10 array with random values and find the minimum and maximum values (★☆☆)"
   ],
   "metadata": {
    "collapsed": false
   },
   "id": "4caeddbdab3a60c5"
  },
  {
   "cell_type": "code",
   "outputs": [
    {
     "data": {
      "text/plain": "(0.007463291893436419, 0.9974130990454738)"
     },
     "execution_count": 14,
     "metadata": {},
     "output_type": "execute_result"
    }
   ],
   "source": [
    "a = np.random.random((10, 10))\n",
    "a.min(), a.max()"
   ],
   "metadata": {
    "collapsed": false,
    "ExecuteTime": {
     "end_time": "2024-02-08T08:09:32.365473Z",
     "start_time": "2024-02-08T08:09:32.313602Z"
    }
   },
   "id": "6766b6ffe47821f7",
   "execution_count": 14
  },
  {
   "cell_type": "markdown",
   "source": [
    "#### 14. Create a random vector of size 30 and find the mean value (★☆☆)"
   ],
   "metadata": {
    "collapsed": false
   },
   "id": "73c739aeec09f912"
  },
  {
   "cell_type": "code",
   "outputs": [
    {
     "data": {
      "text/plain": "0.5385224754104523"
     },
     "execution_count": 15,
     "metadata": {},
     "output_type": "execute_result"
    }
   ],
   "source": [
    "a = np.random.random((30,))\n",
    "a.mean()"
   ],
   "metadata": {
    "collapsed": false,
    "ExecuteTime": {
     "end_time": "2024-02-08T08:09:32.447470Z",
     "start_time": "2024-02-08T08:09:32.358123Z"
    }
   },
   "id": "932dfbfed081ad13",
   "execution_count": 15
  },
  {
   "cell_type": "markdown",
   "source": [
    "#### 15. Create a 2d array with 1 on the border and 0 inside (★☆☆)"
   ],
   "metadata": {
    "collapsed": false
   },
   "id": "b2d3bd9d66d0996c"
  },
  {
   "cell_type": "code",
   "outputs": [
    {
     "data": {
      "text/plain": "array([[1., 1., 1.],\n       [1., 0., 1.],\n       [1., 1., 1.]])"
     },
     "execution_count": 16,
     "metadata": {},
     "output_type": "execute_result"
    }
   ],
   "source": [
    "a = np.ones((3, 3))\n",
    "a[1:-1, 1:-1] = 0\n",
    "a"
   ],
   "metadata": {
    "collapsed": false,
    "ExecuteTime": {
     "end_time": "2024-02-08T08:09:32.475030Z",
     "start_time": "2024-02-08T08:09:32.438479Z"
    }
   },
   "id": "576ff93601afa52a",
   "execution_count": 16
  },
  {
   "cell_type": "markdown",
   "source": [
    "#### 16. How to add a border (filled with 0's) around an existing array? (★☆☆)"
   ],
   "metadata": {
    "collapsed": false
   },
   "id": "9cbcab958e7cdd02"
  },
  {
   "cell_type": "code",
   "outputs": [
    {
     "data": {
      "text/plain": "array([[0., 0., 0., 0., 0.],\n       [0., 1., 1., 1., 0.],\n       [0., 1., 0., 1., 0.],\n       [0., 1., 1., 1., 0.],\n       [0., 0., 0., 0., 0.]])"
     },
     "execution_count": 17,
     "metadata": {},
     "output_type": "execute_result"
    }
   ],
   "source": [
    "np.pad(a, 1, constant_values=0)"
   ],
   "metadata": {
    "collapsed": false,
    "ExecuteTime": {
     "end_time": "2024-02-08T08:09:32.556378Z",
     "start_time": "2024-02-08T08:09:32.469784Z"
    }
   },
   "id": "516cb108a66b24dc",
   "execution_count": 17
  },
  {
   "cell_type": "markdown",
   "source": [
    "#### 17. What is the result of the following expression? (★☆☆)\n",
    "```python\n",
    "0 * np.nan\n",
    "np.nan == np.nan\n",
    "np.inf > np.nan\n",
    "np.nan - np.nan\n",
    "np.nan in set([np.nan])\n",
    "0.3 == 3 * 0.1\n",
    "```"
   ],
   "metadata": {
    "collapsed": false
   },
   "id": "51f1c0de8fd47c77"
  },
  {
   "cell_type": "code",
   "outputs": [
    {
     "data": {
      "text/plain": "(nan, False, False, nan, True, False)"
     },
     "execution_count": 18,
     "metadata": {},
     "output_type": "execute_result"
    }
   ],
   "source": [
    "0 * np.nan, np.nan == np.nan, np.inf > np.nan, np.nan - np.nan, np.nan in set([np.nan]), 0.3 == 3 * 0.1"
   ],
   "metadata": {
    "collapsed": false,
    "ExecuteTime": {
     "end_time": "2024-02-08T08:09:32.588547Z",
     "start_time": "2024-02-08T08:09:32.546559Z"
    }
   },
   "id": "11f7e6ed2889300d",
   "execution_count": 18
  },
  {
   "cell_type": "markdown",
   "source": [
    "#### 18. Create a 5x5 matrix with values 1,2,3,4 just below the diagonal (★☆☆)"
   ],
   "metadata": {
    "collapsed": false
   },
   "id": "8e053a87d466cfb"
  },
  {
   "cell_type": "code",
   "outputs": [
    {
     "data": {
      "text/plain": "array([[1, 0, 0, 0],\n       [0, 2, 0, 0],\n       [0, 0, 3, 0],\n       [0, 0, 0, 4]])"
     },
     "execution_count": 19,
     "metadata": {},
     "output_type": "execute_result"
    }
   ],
   "source": [
    "np.diag((1, 2, 3, 4))"
   ],
   "metadata": {
    "collapsed": false,
    "ExecuteTime": {
     "end_time": "2024-02-08T08:09:32.684019Z",
     "start_time": "2024-02-08T08:09:32.587669Z"
    }
   },
   "id": "d958dd6decf315d9",
   "execution_count": 19
  },
  {
   "cell_type": "markdown",
   "source": [
    "#### 19. Create a 8x8 matrix and fill it with a checkerboard pattern (★☆☆)"
   ],
   "metadata": {
    "collapsed": false
   },
   "id": "8c61aaac9faf88d3"
  },
  {
   "cell_type": "code",
   "outputs": [
    {
     "data": {
      "text/plain": "array([[1., 1., 1., 1., 1., 1., 1., 1.],\n       [0., 0., 0., 0., 0., 0., 0., 0.],\n       [1., 1., 1., 1., 1., 1., 1., 1.],\n       [0., 0., 0., 0., 0., 0., 0., 0.],\n       [1., 1., 1., 1., 1., 1., 1., 1.],\n       [0., 0., 0., 0., 0., 0., 0., 0.],\n       [1., 1., 1., 1., 1., 1., 1., 1.],\n       [0., 0., 0., 0., 0., 0., 0., 0.]])"
     },
     "execution_count": 20,
     "metadata": {},
     "output_type": "execute_result"
    }
   ],
   "source": [
    "a = np.zeros((8, 8))\n",
    "a[::2] = 1\n",
    "a"
   ],
   "metadata": {
    "collapsed": false,
    "ExecuteTime": {
     "end_time": "2024-02-08T08:09:32.702788Z",
     "start_time": "2024-02-08T08:09:32.662775Z"
    }
   },
   "id": "e955bdd0327f953d",
   "execution_count": 20
  },
  {
   "cell_type": "markdown",
   "source": [
    "#### 20. Consider a (6,7,8) shape array, what is the index (x,y,z) of the 100th element? (★☆☆)"
   ],
   "metadata": {
    "collapsed": false
   },
   "id": "bef0c7e0a00bb651"
  },
  {
   "cell_type": "code",
   "outputs": [
    {
     "data": {
      "text/plain": "(1, 5, 4)"
     },
     "execution_count": 21,
     "metadata": {},
     "output_type": "execute_result"
    }
   ],
   "source": [
    "a = np.random.randn(6, 7, 8)\n",
    "# a.reshape(-1, 1, 1)[100]\n",
    "np.unravel_index(100, a.shape)"
   ],
   "metadata": {
    "collapsed": false,
    "ExecuteTime": {
     "end_time": "2024-02-08T08:09:32.779177Z",
     "start_time": "2024-02-08T08:09:32.696112Z"
    }
   },
   "id": "bd7436811e1ededf",
   "execution_count": 21
  },
  {
   "cell_type": "markdown",
   "source": [
    "#### 21. Create a checkerboard 8x8 matrix using the tile function (★☆☆)"
   ],
   "metadata": {
    "collapsed": false
   },
   "id": "e5a35b8854111f66"
  },
  {
   "cell_type": "code",
   "outputs": [
    {
     "data": {
      "text/plain": "array([[1, 0, 1, 0, 1, 0, 1, 0],\n       [0, 1, 0, 1, 0, 1, 0, 1],\n       [1, 0, 1, 0, 1, 0, 1, 0],\n       [0, 1, 0, 1, 0, 1, 0, 1],\n       [1, 0, 1, 0, 1, 0, 1, 0],\n       [0, 1, 0, 1, 0, 1, 0, 1],\n       [1, 0, 1, 0, 1, 0, 1, 0],\n       [0, 1, 0, 1, 0, 1, 0, 1]])"
     },
     "execution_count": 22,
     "metadata": {},
     "output_type": "execute_result"
    }
   ],
   "source": [
    "a = np.array([[1, 0], [0, 1]])\n",
    "np.tile(a, (4, 4))"
   ],
   "metadata": {
    "collapsed": false,
    "ExecuteTime": {
     "end_time": "2024-02-08T08:09:32.818207Z",
     "start_time": "2024-02-08T08:09:32.766948Z"
    }
   },
   "id": "6fedda49021694d5",
   "execution_count": 22
  },
  {
   "cell_type": "markdown",
   "source": [
    "#### 22. Normalize a 5x5 random matrix (★☆☆)"
   ],
   "metadata": {
    "collapsed": false
   },
   "id": "bbb05eec0e1cce0f"
  },
  {
   "cell_type": "code",
   "outputs": [
    {
     "data": {
      "text/plain": "array([[-0.88851304, -0.26967164, -1.44389935, -1.20726331,  1.11796896],\n       [-0.26855812,  0.40679542, -0.07437837,  0.24527287, -0.37380447],\n       [ 0.26984867,  1.8595675 , -1.71313268,  0.22510335,  0.35222483],\n       [ 0.96809014, -0.98133349, -0.14655404,  1.8565528 ,  0.64393039],\n       [ 1.8292447 , -0.82930542, -0.97884872,  0.50887524, -1.10821222]])"
     },
     "execution_count": 23,
     "metadata": {},
     "output_type": "execute_result"
    }
   ],
   "source": [
    "a = np.random.randn(5, 5)\n",
    "\n",
    "(a - a.mean()) / a.std()"
   ],
   "metadata": {
    "collapsed": false,
    "ExecuteTime": {
     "end_time": "2024-02-08T08:09:32.906507Z",
     "start_time": "2024-02-08T08:09:32.809923Z"
    }
   },
   "id": "908349efd8bea8a5",
   "execution_count": 23
  },
  {
   "cell_type": "markdown",
   "source": [
    "#### 23. Create a custom dtype that describes a color as four unsigned bytes (RGBA) (★☆☆)"
   ],
   "metadata": {
    "collapsed": false
   },
   "id": "b26aedc93c49b247"
  },
  {
   "cell_type": "code",
   "outputs": [
    {
     "data": {
      "text/plain": "dtype([('<u', 'u1'), ('<u1', 'u1')])"
     },
     "execution_count": 24,
     "metadata": {},
     "output_type": "execute_result"
    }
   ],
   "source": [
    "np.dtype([('<u', '<u1'), ('<u1', '<u1')])"
   ],
   "metadata": {
    "collapsed": false,
    "ExecuteTime": {
     "end_time": "2024-02-08T08:09:32.936058Z",
     "start_time": "2024-02-08T08:09:32.892325Z"
    }
   },
   "id": "1a47c8d2ab9a1770",
   "execution_count": 24
  },
  {
   "cell_type": "markdown",
   "source": [
    "#### 24. Multiply a 5x3 matrix by a 3x2 matrix (real matrix product) (★☆☆)"
   ],
   "metadata": {
    "collapsed": false
   },
   "id": "88ce3c48291bdc30"
  },
  {
   "cell_type": "code",
   "outputs": [
    {
     "data": {
      "text/plain": "array([[ True,  True],\n       [ True,  True],\n       [ True,  True],\n       [ True,  True],\n       [ True,  True]])"
     },
     "execution_count": 25,
     "metadata": {},
     "output_type": "execute_result"
    }
   ],
   "source": [
    "a = np.random.randn(5, 3)\n",
    "b = np.random.randn(3, 2)\n",
    "\n",
    "np.matmul(a, b) == np.dot(a, b)"
   ],
   "metadata": {
    "collapsed": false,
    "ExecuteTime": {
     "end_time": "2024-02-08T08:09:33.019838Z",
     "start_time": "2024-02-08T08:09:32.930186Z"
    }
   },
   "id": "fff8e678d874c38c",
   "execution_count": 25
  },
  {
   "cell_type": "markdown",
   "source": [
    "#### 25. Given a 1D array, negate all elements which are between 3 and 8, in place. (★☆☆)"
   ],
   "metadata": {
    "collapsed": false
   },
   "id": "d2a15f3d7bfd479b"
  },
  {
   "cell_type": "code",
   "outputs": [
    {
     "data": {
      "text/plain": "array([ 0,  1,  2,  3, -4, -5, -6, -7,  8,  9])"
     },
     "execution_count": 26,
     "metadata": {},
     "output_type": "execute_result"
    }
   ],
   "source": [
    "a = np.arange(10)\n",
    "a[(3 < a) & (a < 8)] *= -1\n",
    "a"
   ],
   "metadata": {
    "collapsed": false,
    "ExecuteTime": {
     "end_time": "2024-02-08T08:09:33.047327Z",
     "start_time": "2024-02-08T08:09:33.010337Z"
    }
   },
   "id": "c007fe097187c373",
   "execution_count": 26
  },
  {
   "cell_type": "markdown",
   "source": [
    "#### 26. What is the output of the following script? (★☆☆)\n",
    "```python\n",
    "# Author: Jake VanderPlas\n",
    "\n",
    "print(sum(range(5),-1))\n",
    "from numpy import *\n",
    "print(sum(range(5),-1))\n",
    "```"
   ],
   "metadata": {
    "collapsed": false
   },
   "id": "d2bee00195a3fa17"
  },
  {
   "cell_type": "code",
   "outputs": [
    {
     "name": "stdout",
     "output_type": "stream",
     "text": [
      "9\n",
      "10\n"
     ]
    }
   ],
   "source": [
    "print(sum(range(5), -1))\n",
    "from numpy import *\n",
    "\n",
    "print(sum(range(5), -1))"
   ],
   "metadata": {
    "collapsed": false,
    "ExecuteTime": {
     "end_time": "2024-02-08T08:09:33.123946Z",
     "start_time": "2024-02-08T08:09:33.042075Z"
    }
   },
   "id": "bc574ea335e15212",
   "execution_count": 27
  },
  {
   "cell_type": "markdown",
   "source": [
    "#### 27. Consider an integer vector Z, which of these expressions are legal? (★☆☆)\n",
    "```python\n",
    "Z**Z\n",
    "2 << Z >> 2\n",
    "Z <- Z\n",
    "1j*Z\n",
    "Z/1/1\n",
    "Z<Z>Z\n",
    "```"
   ],
   "metadata": {
    "collapsed": false
   },
   "id": "96ef96968e897672"
  },
  {
   "cell_type": "code",
   "outputs": [
    {
     "ename": "NameError",
     "evalue": "name 'ic' is not defined",
     "output_type": "error",
     "traceback": [
      "\u001B[0;31m---------------------------------------------------------------------------\u001B[0m",
      "\u001B[0;31mNameError\u001B[0m                                 Traceback (most recent call last)",
      "Cell \u001B[0;32mIn[28], line 2\u001B[0m\n\u001B[1;32m      1\u001B[0m a \u001B[38;5;241m=\u001B[39m np\u001B[38;5;241m.\u001B[39marange(\u001B[38;5;241m9\u001B[39m)\u001B[38;5;241m.\u001B[39mreshape(\u001B[38;5;241m3\u001B[39m, \u001B[38;5;241m3\u001B[39m)\n\u001B[0;32m----> 2\u001B[0m \u001B[43mic\u001B[49m(a \u001B[38;5;241m*\u001B[39m\u001B[38;5;241m*\u001B[39m a)\n\u001B[1;32m      3\u001B[0m ic(\u001B[38;5;241m2\u001B[39m \u001B[38;5;241m<<\u001B[39m a \u001B[38;5;241m>>\u001B[39m \u001B[38;5;241m2\u001B[39m)\n\u001B[1;32m      4\u001B[0m ic(a \u001B[38;5;241m<\u001B[39m \u001B[38;5;241m-\u001B[39m a)\n",
      "\u001B[0;31mNameError\u001B[0m: name 'ic' is not defined"
     ]
    }
   ],
   "source": [
    "a = np.arange(9).reshape(3, 3)\n",
    "ic(a ** a)\n",
    "ic(2 << a >> 2)\n",
    "ic(a < - a)\n",
    "ic(1j * a)\n",
    "ic(a / 1 / 1)\n",
    "# ic(a<a>a)"
   ],
   "metadata": {
    "collapsed": false,
    "ExecuteTime": {
     "end_time": "2024-02-08T08:09:33.214465Z",
     "start_time": "2024-02-08T08:09:33.114958Z"
    }
   },
   "id": "8b1b9183ea77980",
   "execution_count": 28
  },
  {
   "cell_type": "markdown",
   "source": [
    "#### 28. What are the result of the following expressions? (★☆☆)\n",
    "```python\n",
    "np.array(0) / np.array(0)\n",
    "np.array(0) // np.array(0)\n",
    "np.array([np.nan]).astype(int).astype(float)\n",
    "```"
   ],
   "metadata": {
    "collapsed": false
   },
   "id": "ca2926a6df641cfe"
  },
  {
   "cell_type": "code",
   "outputs": [],
   "source": [
    "np.array(0) / np.array(0), np.array(0) // np.array(0), np.array([np.nan]).astype(int).astype(float)"
   ],
   "metadata": {
    "collapsed": false,
    "ExecuteTime": {
     "start_time": "2024-02-08T08:09:33.208775Z"
    }
   },
   "id": "67f1b0c961be62d8",
   "execution_count": null
  },
  {
   "cell_type": "markdown",
   "source": [
    "#### 29. How to round away from zero a float array ? (★☆☆)"
   ],
   "metadata": {
    "collapsed": false
   },
   "id": "9d91657234afad26"
  },
  {
   "cell_type": "code",
   "outputs": [
    {
     "name": "stdout",
     "output_type": "stream",
     "text": [
      "[ 6.  7.  5.  7.  6.  4. -9.  3.  3.  1.]\n",
      "[ 6.  7.  5.  7.  6.  4. -9.  3.  3.  1.]\n"
     ]
    },
    {
     "ename": "NameError",
     "evalue": "name 'ic' is not defined",
     "output_type": "error",
     "traceback": [
      "\u001B[0;31m---------------------------------------------------------------------------\u001B[0m",
      "\u001B[0;31mNameError\u001B[0m                                 Traceback (most recent call last)",
      "Cell \u001B[0;32mIn[29], line 7\u001B[0m\n\u001B[1;32m      4\u001B[0m \u001B[38;5;66;03m# More readable but less efficient\u001B[39;00m\n\u001B[1;32m      5\u001B[0m \u001B[38;5;28mprint\u001B[39m(np\u001B[38;5;241m.\u001B[39mwhere(a \u001B[38;5;241m>\u001B[39m \u001B[38;5;241m0\u001B[39m, np\u001B[38;5;241m.\u001B[39mceil(a), np\u001B[38;5;241m.\u001B[39mfloor(a)))\n\u001B[0;32m----> 7\u001B[0m \u001B[43mic\u001B[49m(a)\n",
      "\u001B[0;31mNameError\u001B[0m: name 'ic' is not defined"
     ]
    }
   ],
   "source": [
    "a = np.random.uniform(-10, +10, 10)\n",
    "print(np.copysign(np.ceil(np.abs(a)), a))\n",
    "\n",
    "# More readable but less efficient\n",
    "print(np.where(a > 0, np.ceil(a), np.floor(a)))\n",
    "\n",
    "ic(a)"
   ],
   "metadata": {
    "collapsed": false,
    "ExecuteTime": {
     "end_time": "2024-02-08T08:09:33.564311Z",
     "start_time": "2024-02-08T08:09:33.220504Z"
    }
   },
   "id": "7131bc19a0a6549e",
   "execution_count": 29
  },
  {
   "cell_type": "markdown",
   "source": [
    "#### 30. How to find common values between two arrays? (★☆☆)"
   ],
   "metadata": {
    "collapsed": false
   },
   "id": "7d5b6264ff2cd3de"
  },
  {
   "cell_type": "code",
   "outputs": [
    {
     "ename": "NameError",
     "evalue": "name 'ic' is not defined",
     "output_type": "error",
     "traceback": [
      "\u001B[0;31m---------------------------------------------------------------------------\u001B[0m",
      "\u001B[0;31mNameError\u001B[0m                                 Traceback (most recent call last)",
      "Cell \u001B[0;32mIn[30], line 4\u001B[0m\n\u001B[1;32m      2\u001B[0m a2 \u001B[38;5;241m=\u001B[39m np\u001B[38;5;241m.\u001B[39mrandom\u001B[38;5;241m.\u001B[39mrandint(\u001B[38;5;241m0\u001B[39m, \u001B[38;5;241m10\u001B[39m, \u001B[38;5;241m10\u001B[39m)\n\u001B[1;32m      3\u001B[0m np\u001B[38;5;241m.\u001B[39mintersect1d(a1, a2)\n\u001B[0;32m----> 4\u001B[0m \u001B[43mic\u001B[49m(a1), ic(a2)\n",
      "\u001B[0;31mNameError\u001B[0m: name 'ic' is not defined"
     ]
    }
   ],
   "source": [
    "a1 = np.random.randint(0, 10, 10)\n",
    "a2 = np.random.randint(0, 10, 10)\n",
    "np.intersect1d(a1, a2)\n",
    "ic(a1), ic(a2)"
   ],
   "metadata": {
    "collapsed": false,
    "ExecuteTime": {
     "start_time": "2024-02-08T08:09:33.251977Z"
    }
   },
   "id": "e52d4d2bc82f222a",
   "execution_count": 30
  },
  {
   "cell_type": "markdown",
   "source": [
    "#### 31. How to ignore all numpy warnings (not recommended)? (★☆☆)"
   ],
   "metadata": {
    "collapsed": false
   },
   "id": "3cd8ef5543933b7a"
  },
  {
   "cell_type": "code",
   "outputs": [],
   "source": [
    "# np.seterr(all='ignore')"
   ],
   "metadata": {
    "collapsed": false,
    "ExecuteTime": {
     "end_time": "2024-02-08T08:09:34.365171Z",
     "start_time": "2024-02-08T08:09:34.304337Z"
    }
   },
   "id": "39edcb00da00e813",
   "execution_count": 31
  },
  {
   "cell_type": "markdown",
   "source": [
    "#### 32. Is the following expressions true? (★☆☆)\n",
    "```python\n",
    "np.sqrt(-1) == np.emath.sqrt(-1)\n",
    "```"
   ],
   "metadata": {
    "collapsed": false
   },
   "id": "5a6c7c740f5e2f55"
  },
  {
   "cell_type": "code",
   "outputs": [
    {
     "name": "stderr",
     "output_type": "stream",
     "text": [
      "/var/folders/yk/hzm_ywr95w3gr1cvnlndq5_r0000gn/T/ipykernel_41674/3700392212.py:1: RuntimeWarning: invalid value encountered in sqrt\n",
      "  np.sqrt(-1) == np.emath.sqrt(-1)\n",
      "/var/folders/yk/hzm_ywr95w3gr1cvnlndq5_r0000gn/T/ipykernel_41674/3700392212.py:2: RuntimeWarning: invalid value encountered in sqrt\n",
      "  ic(np.sqrt(-1))\n",
      "ic| np.sqrt(-1): nan\n",
      "ic| np.emath.sqrt(-1): 1j\n"
     ]
    },
    {
     "data": {
      "text/plain": "1j"
     },
     "execution_count": 35,
     "metadata": {},
     "output_type": "execute_result"
    }
   ],
   "source": [
    "np.sqrt(-1) == np.emath.sqrt(-1)\n",
    "ic(np.sqrt(-1))\n",
    "ic(np.emath.sqrt(-1))"
   ],
   "metadata": {
    "collapsed": false,
    "ExecuteTime": {
     "end_time": "2024-02-08T08:11:27.592295Z",
     "start_time": "2024-02-08T08:11:27.505783Z"
    }
   },
   "id": "ca156b79a48cc7cb",
   "execution_count": 35
  },
  {
   "cell_type": "markdown",
   "source": [
    "#### 33. How to get the dates of yesterday, today and tomorrow? (★☆☆)"
   ],
   "metadata": {
    "collapsed": false
   },
   "id": "346fed118873a9ce"
  },
  {
   "cell_type": "code",
   "outputs": [],
   "source": [
    "from datetime import datetime\n",
    "\n",
    "today = datetime.now()\n",
    "yesterday = today.replace(day=today.day - 1)\n",
    "tomorrow = today.replace(day=today.day + 1)\n",
    "\n",
    "yesterday_dt = np.datetime64(yesterday)\n",
    "today_dt = np.datetime64(today)\n",
    "tomorrow_dt = np.datetime64(tomorrow)"
   ],
   "metadata": {
    "collapsed": false,
    "ExecuteTime": {
     "end_time": "2024-02-08T08:17:00.521284Z",
     "start_time": "2024-02-08T08:17:00.171164Z"
    }
   },
   "id": "a8494ac16c58ce7f",
   "execution_count": 45
  },
  {
   "cell_type": "markdown",
   "source": [
    "#### 34. How to get all the dates corresponding to the month of July 2016? (★★☆)"
   ],
   "metadata": {
    "collapsed": false
   },
   "id": "889ae29af002befb"
  },
  {
   "cell_type": "code",
   "outputs": [
    {
     "data": {
      "text/plain": "array(['2016-07-01', '2016-07-02', '2016-07-03', '2016-07-04',\n       '2016-07-05', '2016-07-06', '2016-07-07', '2016-07-08',\n       '2016-07-09', '2016-07-10', '2016-07-11', '2016-07-12',\n       '2016-07-13', '2016-07-14', '2016-07-15', '2016-07-16',\n       '2016-07-17', '2016-07-18', '2016-07-19', '2016-07-20',\n       '2016-07-21', '2016-07-22', '2016-07-23', '2016-07-24',\n       '2016-07-25', '2016-07-26', '2016-07-27', '2016-07-28',\n       '2016-07-29', '2016-07-30', '2016-07-31'], dtype='datetime64[D]')"
     },
     "execution_count": 50,
     "metadata": {},
     "output_type": "execute_result"
    }
   ],
   "source": [
    "np.arange('2016-07', '2016-08', dtype='datetime64[D]')"
   ],
   "metadata": {
    "collapsed": false,
    "ExecuteTime": {
     "end_time": "2024-02-08T08:30:35.145123Z",
     "start_time": "2024-02-08T08:30:35.125363Z"
    }
   },
   "id": "54e709b1b8fc5c57",
   "execution_count": 50
  },
  {
   "cell_type": "markdown",
   "source": [
    "#### 35. How to compute ((A+B)*(-A/2)) in place (without copy)? (★★☆)"
   ],
   "metadata": {
    "collapsed": false
   },
   "id": "be2c78db717fbe83"
  },
  {
   "cell_type": "code",
   "outputs": [
    {
     "name": "stderr",
     "output_type": "stream",
     "text": [
      "ic| (a + b) * (-a / 2): array([[-1.31377673, -0.00738984, -0.59496972],\n",
      "                               [ 0.116226  , -1.03252395, -3.16556746],\n",
      "                               [ 0.03698636, -2.14630169,  0.1721226 ]])\n"
     ]
    },
    {
     "data": {
      "text/plain": "array([[-1.31377673, -0.00738984, -0.59496972],\n       [ 0.116226  , -1.03252395, -3.16556746],\n       [ 0.03698636, -2.14630169,  0.1721226 ]])"
     },
     "execution_count": 56,
     "metadata": {},
     "output_type": "execute_result"
    }
   ],
   "source": [
    "a = np.random.randn(3, 3)\n",
    "b = np.random.randn(3, 3)\n",
    "\n",
    "ic((a + b) * (-a / 2))\n",
    "np.multiply(np.add(a, b), np.divide(-a, 2))"
   ],
   "metadata": {
    "collapsed": false,
    "ExecuteTime": {
     "end_time": "2024-02-08T08:32:24.741971Z",
     "start_time": "2024-02-08T08:32:24.679570Z"
    }
   },
   "id": "cc53ecf62ef53dbd",
   "execution_count": 56
  },
  {
   "cell_type": "markdown",
   "source": [
    "#### 36. Extract the integer part of a random array of positive numbers using 4 different methods (★★☆)"
   ],
   "metadata": {
    "collapsed": false
   },
   "id": "2b85e9720b9944fa"
  },
  {
   "cell_type": "code",
   "outputs": [],
   "source": [],
   "metadata": {
    "collapsed": false,
    "ExecuteTime": {
     "end_time": "2024-02-08T08:09:34.603492Z",
     "start_time": "2024-02-08T08:09:34.533764Z"
    }
   },
   "id": "ee6afc46faf1c5fd",
   "execution_count": 31
  },
  {
   "cell_type": "markdown",
   "source": [
    "#### 37. Create a 5x5 matrix with row values ranging from 0 to 4 (★★☆)"
   ],
   "metadata": {
    "collapsed": false
   },
   "id": "a3553ea8003c009e"
  },
  {
   "cell_type": "code",
   "outputs": [],
   "source": [],
   "metadata": {
    "collapsed": false,
    "ExecuteTime": {
     "end_time": "2024-02-08T08:09:34.633845Z",
     "start_time": "2024-02-08T08:09:34.602440Z"
    }
   },
   "id": "d27703d4db5f251a",
   "execution_count": 31
  },
  {
   "cell_type": "markdown",
   "source": [
    "#### 38. Consider a generator function that generates 10 integers and use it to build an array (★☆☆)"
   ],
   "metadata": {
    "collapsed": false
   },
   "id": "92de49620e4aed9d"
  },
  {
   "cell_type": "code",
   "outputs": [],
   "source": [],
   "metadata": {
    "collapsed": false,
    "ExecuteTime": {
     "end_time": "2024-02-08T08:09:34.690693Z",
     "start_time": "2024-02-08T08:09:34.625499Z"
    }
   },
   "id": "c3a35720815f2a3c",
   "execution_count": 31
  },
  {
   "cell_type": "markdown",
   "source": [
    "#### 39. Create a vector of size 10 with values ranging from 0 to 1, both excluded (★★☆)"
   ],
   "metadata": {
    "collapsed": false
   },
   "id": "f44f4d08d803760c"
  },
  {
   "cell_type": "code",
   "outputs": [],
   "source": [],
   "metadata": {
    "collapsed": false,
    "ExecuteTime": {
     "end_time": "2024-02-08T08:09:34.712563Z",
     "start_time": "2024-02-08T08:09:34.644155Z"
    }
   },
   "id": "d48c5c792e3cddb9",
   "execution_count": 31
  },
  {
   "cell_type": "markdown",
   "source": [
    "#### 40. Create a random vector of size 10 and sort it (★★☆)"
   ],
   "metadata": {
    "collapsed": false
   },
   "id": "423994d74245ccf2"
  },
  {
   "cell_type": "code",
   "outputs": [],
   "source": [],
   "metadata": {
    "collapsed": false,
    "ExecuteTime": {
     "end_time": "2024-02-08T08:09:34.772920Z",
     "start_time": "2024-02-08T08:09:34.711243Z"
    }
   },
   "id": "133eabe9b85604bd",
   "execution_count": 31
  },
  {
   "cell_type": "markdown",
   "source": [
    "#### 41. How to sum a small array faster than np.sum? (★★☆)"
   ],
   "metadata": {
    "collapsed": false
   },
   "id": "ef329df44bd5ce8c"
  },
  {
   "cell_type": "code",
   "outputs": [],
   "source": [],
   "metadata": {
    "collapsed": false,
    "ExecuteTime": {
     "end_time": "2024-02-08T08:09:34.798515Z",
     "start_time": "2024-02-08T08:09:34.768803Z"
    }
   },
   "id": "f89c93935461c92",
   "execution_count": 31
  },
  {
   "cell_type": "markdown",
   "source": [
    "#### 42. Consider two random array A and B, check if they are equal (★★☆)"
   ],
   "metadata": {
    "collapsed": false
   },
   "id": "6812f071a7a512"
  },
  {
   "cell_type": "code",
   "outputs": [],
   "source": [],
   "metadata": {
    "collapsed": false,
    "ExecuteTime": {
     "end_time": "2024-02-08T08:09:34.857853Z",
     "start_time": "2024-02-08T08:09:34.792797Z"
    }
   },
   "id": "713cd130a7f18894",
   "execution_count": 31
  },
  {
   "cell_type": "markdown",
   "source": [
    "#### 43. Make an array immutable (read-only) (★★☆)"
   ],
   "metadata": {
    "collapsed": false
   },
   "id": "ff8766678f790d71"
  },
  {
   "cell_type": "code",
   "outputs": [],
   "source": [],
   "metadata": {
    "collapsed": false,
    "ExecuteTime": {
     "end_time": "2024-02-08T08:09:34.882899Z",
     "start_time": "2024-02-08T08:09:34.812009Z"
    }
   },
   "id": "e5b87cae7a39c60b",
   "execution_count": 31
  },
  {
   "cell_type": "markdown",
   "source": [
    "#### 44. Consider a random 10x2 matrix representing cartesian coordinates, convert them to polar coordinates (★★☆)"
   ],
   "metadata": {
    "collapsed": false
   },
   "id": "133ac80b1da42bc2"
  },
  {
   "cell_type": "code",
   "outputs": [],
   "source": [],
   "metadata": {
    "collapsed": false,
    "ExecuteTime": {
     "end_time": "2024-02-08T08:09:34.949226Z",
     "start_time": "2024-02-08T08:09:34.881522Z"
    }
   },
   "id": "69d0e6d4b7aea76b",
   "execution_count": 31
  },
  {
   "cell_type": "markdown",
   "source": [
    "#### 45. Create random vector of size 10 and replace the maximum value by 0 (★★☆)"
   ],
   "metadata": {
    "collapsed": false
   },
   "id": "928081c701e45e7e"
  },
  {
   "cell_type": "code",
   "outputs": [],
   "source": [],
   "metadata": {
    "collapsed": false,
    "ExecuteTime": {
     "end_time": "2024-02-08T08:09:34.971927Z",
     "start_time": "2024-02-08T08:09:34.940974Z"
    }
   },
   "id": "b4a45bfafa10da5d",
   "execution_count": 31
  },
  {
   "cell_type": "markdown",
   "source": [
    "#### 46. Create a structured array with `x` and `y` coordinates covering the [0,1]x[0,1] area (★★☆)"
   ],
   "metadata": {
    "collapsed": false
   },
   "id": "c9608f961bbc22c3"
  },
  {
   "cell_type": "code",
   "outputs": [],
   "source": [],
   "metadata": {
    "collapsed": false,
    "ExecuteTime": {
     "end_time": "2024-02-08T08:09:35.040596Z",
     "start_time": "2024-02-08T08:09:34.964016Z"
    }
   },
   "id": "18a772ad6e3fcc46",
   "execution_count": 31
  },
  {
   "cell_type": "markdown",
   "source": [
    "#### 47. Given two arrays, X and Y, construct the Cauchy matrix C (Cij =1/(xi - yj)) (★★☆)"
   ],
   "metadata": {
    "collapsed": false
   },
   "id": "60291ef425132120"
  },
  {
   "cell_type": "code",
   "outputs": [],
   "source": [],
   "metadata": {
    "collapsed": false,
    "ExecuteTime": {
     "end_time": "2024-02-08T08:09:35.067300Z",
     "start_time": "2024-02-08T08:09:34.995938Z"
    }
   },
   "id": "2b6ce5eff6bbf8a1",
   "execution_count": 31
  },
  {
   "cell_type": "markdown",
   "source": [
    "#### 48. Print the minimum and maximum representable value for each numpy scalar type (★★☆)"
   ],
   "metadata": {
    "collapsed": false
   },
   "id": "5fd18baf8f6fae28"
  },
  {
   "cell_type": "code",
   "outputs": [],
   "source": [],
   "metadata": {
    "collapsed": false,
    "ExecuteTime": {
     "end_time": "2024-02-08T08:09:35.125435Z",
     "start_time": "2024-02-08T08:09:35.062174Z"
    }
   },
   "id": "c339be892b0bd851",
   "execution_count": 31
  },
  {
   "cell_type": "markdown",
   "source": [
    "#### 49. How to print all the values of an array? (★★☆)"
   ],
   "metadata": {
    "collapsed": false
   },
   "id": "e1f12dd9b774a51f"
  },
  {
   "cell_type": "code",
   "outputs": [],
   "source": [],
   "metadata": {
    "collapsed": false,
    "ExecuteTime": {
     "end_time": "2024-02-08T08:09:35.156247Z",
     "start_time": "2024-02-08T08:09:35.124356Z"
    }
   },
   "id": "f8f80e88702b2f5",
   "execution_count": 31
  },
  {
   "cell_type": "markdown",
   "source": [
    "#### 50. How to find the closest value (to a given scalar) in a vector? (★★☆)"
   ],
   "metadata": {
    "collapsed": false
   },
   "id": "46a43c3f14b1b4f2"
  },
  {
   "cell_type": "code",
   "outputs": [],
   "source": [],
   "metadata": {
    "collapsed": false,
    "ExecuteTime": {
     "end_time": "2024-02-08T08:09:35.215533Z",
     "start_time": "2024-02-08T08:09:35.147640Z"
    }
   },
   "id": "87d851a800adcca2",
   "execution_count": 31
  },
  {
   "cell_type": "markdown",
   "source": [
    "#### 51. Create a structured array representing a position (x,y) and a color (r,g,b) (★★☆)"
   ],
   "metadata": {
    "collapsed": false
   },
   "id": "eabd963dd817df03"
  },
  {
   "cell_type": "code",
   "outputs": [],
   "source": [],
   "metadata": {
    "collapsed": false,
    "ExecuteTime": {
     "end_time": "2024-02-08T08:09:35.242311Z",
     "start_time": "2024-02-08T08:09:35.214252Z"
    }
   },
   "id": "67668886a9d45753",
   "execution_count": 31
  },
  {
   "cell_type": "markdown",
   "source": [
    "#### 52. Consider a random vector with shape (100,2) representing coordinates, find point by point distances (★★☆)"
   ],
   "metadata": {
    "collapsed": false
   },
   "id": "deee8992f9cf0b0"
  },
  {
   "cell_type": "code",
   "outputs": [],
   "source": [],
   "metadata": {
    "collapsed": false,
    "ExecuteTime": {
     "end_time": "2024-02-08T08:09:35.296355Z",
     "start_time": "2024-02-08T08:09:35.232575Z"
    }
   },
   "id": "4ce602dbe9a78dd5",
   "execution_count": 31
  },
  {
   "cell_type": "markdown",
   "source": [
    "#### 53. How to convert a float (32 bits) array into an integer (32 bits) in place?"
   ],
   "metadata": {
    "collapsed": false
   },
   "id": "72c961810b6375f"
  },
  {
   "cell_type": "code",
   "outputs": [],
   "source": [],
   "metadata": {
    "collapsed": false,
    "ExecuteTime": {
     "end_time": "2024-02-08T08:09:35.332899Z",
     "start_time": "2024-02-08T08:09:35.257553Z"
    }
   },
   "id": "f60bfbba2d076bf4",
   "execution_count": 31
  },
  {
   "cell_type": "markdown",
   "source": [
    "#### 54. How to read the following file? (★★☆)\n",
    "```\n",
    "1, 2, 3, 4, 5\n",
    "6,  ,  , 7, 8\n",
    " ,  , 9,10,11\n",
    "```"
   ],
   "metadata": {
    "collapsed": false
   },
   "id": "77ace4efeb7ceaa1"
  },
  {
   "cell_type": "code",
   "outputs": [],
   "source": [],
   "metadata": {
    "collapsed": false,
    "ExecuteTime": {
     "end_time": "2024-02-08T08:09:35.396811Z",
     "start_time": "2024-02-08T08:09:35.325724Z"
    }
   },
   "id": "9e8c4479c11c643",
   "execution_count": 31
  },
  {
   "cell_type": "markdown",
   "source": [
    "#### 55. What is the equivalent of enumerate for numpy arrays? (★★☆)"
   ],
   "metadata": {
    "collapsed": false
   },
   "id": "f51f4963208689aa"
  },
  {
   "cell_type": "code",
   "outputs": [],
   "source": [],
   "metadata": {
    "collapsed": false,
    "ExecuteTime": {
     "end_time": "2024-02-08T08:09:35.433968Z",
     "start_time": "2024-02-08T08:09:35.395737Z"
    }
   },
   "id": "393c66d0a0494e7c",
   "execution_count": 31
  },
  {
   "cell_type": "markdown",
   "source": [
    "#### 56. Generate a generic 2D Gaussian-like array (★★☆)"
   ],
   "metadata": {
    "collapsed": false
   },
   "id": "1f692ddfa8941c67"
  },
  {
   "cell_type": "code",
   "outputs": [],
   "source": [],
   "metadata": {
    "collapsed": false,
    "ExecuteTime": {
     "end_time": "2024-02-08T08:09:35.500251Z",
     "start_time": "2024-02-08T08:09:35.422564Z"
    }
   },
   "id": "1506e55f4cacad3d",
   "execution_count": 31
  },
  {
   "cell_type": "markdown",
   "source": [
    "#### 57. How to randomly place p elements in a 2D array? (★★☆)"
   ],
   "metadata": {
    "collapsed": false
   },
   "id": "5ada5e5a49b003bd"
  },
  {
   "cell_type": "code",
   "outputs": [],
   "source": [],
   "metadata": {
    "collapsed": false,
    "ExecuteTime": {
     "end_time": "2024-02-08T08:09:35.533209Z",
     "start_time": "2024-02-08T08:09:35.494052Z"
    }
   },
   "id": "50c25f9e4ff27bfa",
   "execution_count": 31
  },
  {
   "cell_type": "markdown",
   "source": [
    "#### 58. Subtract the mean of each row of a matrix (★★☆)"
   ],
   "metadata": {
    "collapsed": false
   },
   "id": "370395ad1dc7356f"
  },
  {
   "cell_type": "code",
   "outputs": [],
   "source": [],
   "metadata": {
    "collapsed": false,
    "ExecuteTime": {
     "end_time": "2024-02-08T08:09:35.593156Z",
     "start_time": "2024-02-08T08:09:35.526769Z"
    }
   },
   "id": "2ad2179db388af73",
   "execution_count": 31
  },
  {
   "cell_type": "markdown",
   "source": [
    "#### 59. How to sort an array by the nth column? (★★☆)"
   ],
   "metadata": {
    "collapsed": false
   },
   "id": "11f2ba33355b0d89"
  },
  {
   "cell_type": "code",
   "outputs": [],
   "source": [],
   "metadata": {
    "collapsed": false,
    "ExecuteTime": {
     "end_time": "2024-02-08T08:09:35.618826Z",
     "start_time": "2024-02-08T08:09:35.583956Z"
    }
   },
   "id": "96766fe96ba36c6f",
   "execution_count": 31
  },
  {
   "cell_type": "markdown",
   "source": [
    "#### 60. How to tell if a given 2D array has null columns? (★★☆)"
   ],
   "metadata": {
    "collapsed": false
   },
   "id": "a91ad3d5edba5f31"
  },
  {
   "cell_type": "code",
   "outputs": [],
   "source": [],
   "metadata": {
    "collapsed": false,
    "ExecuteTime": {
     "end_time": "2024-02-08T08:09:35.669768Z",
     "start_time": "2024-02-08T08:09:35.613251Z"
    }
   },
   "id": "fea97893b17da685",
   "execution_count": 31
  },
  {
   "cell_type": "markdown",
   "source": [
    "#### 61. Find the nearest value from a given value in an array (★★☆)"
   ],
   "metadata": {
    "collapsed": false
   },
   "id": "f408020221058423"
  },
  {
   "cell_type": "code",
   "outputs": [],
   "source": [],
   "metadata": {
    "collapsed": false,
    "ExecuteTime": {
     "end_time": "2024-02-08T08:09:35.705153Z",
     "start_time": "2024-02-08T08:09:35.668624Z"
    }
   },
   "id": "1b075c0d98c0153d",
   "execution_count": 31
  },
  {
   "cell_type": "markdown",
   "source": [
    "#### 62. Considering two arrays with shape (1,3) and (3,1), how to compute their sum using an iterator? (★★☆)"
   ],
   "metadata": {
    "collapsed": false
   },
   "id": "904457230f3a66da"
  },
  {
   "cell_type": "code",
   "outputs": [],
   "source": [],
   "metadata": {
    "collapsed": false,
    "ExecuteTime": {
     "end_time": "2024-02-08T08:09:35.761697Z",
     "start_time": "2024-02-08T08:09:35.692231Z"
    }
   },
   "id": "3e658353dec842bb",
   "execution_count": 31
  },
  {
   "cell_type": "markdown",
   "source": [
    "#### 63. Create an array class that has a name attribute (★★☆)"
   ],
   "metadata": {
    "collapsed": false
   },
   "id": "13d0d4491f9e3004"
  },
  {
   "cell_type": "code",
   "outputs": [],
   "source": [],
   "metadata": {
    "collapsed": false,
    "ExecuteTime": {
     "end_time": "2024-02-08T08:09:35.787003Z",
     "start_time": "2024-02-08T08:09:35.752670Z"
    }
   },
   "id": "f20208e0bfef9a19",
   "execution_count": 31
  },
  {
   "cell_type": "markdown",
   "source": [
    "#### 64. Consider a given vector, how to add 1 to each element indexed by a second vector (be careful with repeated indices)? (★★★)"
   ],
   "metadata": {
    "collapsed": false
   },
   "id": "c5c6d4a9518b7155"
  },
  {
   "cell_type": "code",
   "outputs": [],
   "source": [],
   "metadata": {
    "collapsed": false,
    "ExecuteTime": {
     "end_time": "2024-02-08T08:09:35.840109Z",
     "start_time": "2024-02-08T08:09:35.781088Z"
    }
   },
   "id": "74148887ab2f6aa0",
   "execution_count": 31
  },
  {
   "cell_type": "markdown",
   "source": [
    "#### 65. How to accumulate elements of a vector (X) to an array (F) based on an index list (I)? (★★★)"
   ],
   "metadata": {
    "collapsed": false
   },
   "id": "11ca8d9b71b5b854"
  },
  {
   "cell_type": "code",
   "outputs": [],
   "source": [],
   "metadata": {
    "collapsed": false,
    "ExecuteTime": {
     "end_time": "2024-02-08T08:09:35.874344Z",
     "start_time": "2024-02-08T08:09:35.838962Z"
    }
   },
   "id": "8b92a1c707bea03",
   "execution_count": 31
  },
  {
   "cell_type": "markdown",
   "source": [
    "#### 66. Considering a (w,h,3) image of (dtype=ubyte), compute the number of unique colors (★★☆)"
   ],
   "metadata": {
    "collapsed": false
   },
   "id": "98f903f20d1459f4"
  },
  {
   "cell_type": "code",
   "outputs": [],
   "source": [],
   "metadata": {
    "collapsed": false,
    "ExecuteTime": {
     "end_time": "2024-02-08T08:09:35.924686Z",
     "start_time": "2024-02-08T08:09:35.862898Z"
    }
   },
   "id": "746231b895639da9",
   "execution_count": 31
  },
  {
   "cell_type": "markdown",
   "source": [
    "#### 67. Considering a four dimensions array, how to get sum over the last two axis at once? (★★★)"
   ],
   "metadata": {
    "collapsed": false
   },
   "id": "3dea9c674a4da28b"
  },
  {
   "cell_type": "code",
   "outputs": [],
   "source": [],
   "metadata": {
    "collapsed": false,
    "ExecuteTime": {
     "end_time": "2024-02-08T08:09:35.953468Z",
     "start_time": "2024-02-08T08:09:35.923314Z"
    }
   },
   "id": "8c79c7d5d41622b9",
   "execution_count": 31
  },
  {
   "cell_type": "markdown",
   "source": [
    "#### 68. Considering a one-dimensional vector D, how to compute means of subsets of D using a vector S of same size describing subset  indices? (★★★)"
   ],
   "metadata": {
    "collapsed": false
   },
   "id": "a184af7857a492e5"
  },
  {
   "cell_type": "code",
   "outputs": [],
   "source": [],
   "metadata": {
    "collapsed": false,
    "ExecuteTime": {
     "end_time": "2024-02-08T08:09:36.014468Z",
     "start_time": "2024-02-08T08:09:35.946976Z"
    }
   },
   "id": "355bf5212021be94",
   "execution_count": 31
  },
  {
   "cell_type": "markdown",
   "source": [
    "#### 69. How to get the diagonal of a dot product? (★★★)"
   ],
   "metadata": {
    "collapsed": false
   },
   "id": "635fe6629595df60"
  },
  {
   "cell_type": "code",
   "outputs": [],
   "source": [],
   "metadata": {
    "collapsed": false,
    "ExecuteTime": {
     "end_time": "2024-02-08T08:09:36.044184Z",
     "start_time": "2024-02-08T08:09:36.013299Z"
    }
   },
   "id": "2de76e9c13767305",
   "execution_count": 31
  },
  {
   "cell_type": "markdown",
   "source": [
    "#### 70. Consider the vector [1, 2, 3, 4, 5], how to build a new vector with 3 consecutive zeros interleaved between each value? (★★★)"
   ],
   "metadata": {
    "collapsed": false
   },
   "id": "24a85c97f2f4d0fc"
  },
  {
   "cell_type": "code",
   "outputs": [],
   "source": [],
   "metadata": {
    "collapsed": false,
    "ExecuteTime": {
     "end_time": "2024-02-08T08:09:36.091848Z",
     "start_time": "2024-02-08T08:09:36.036058Z"
    }
   },
   "id": "439b5d18618c1a04",
   "execution_count": 31
  },
  {
   "cell_type": "markdown",
   "source": [
    "#### 71. Consider an array of dimension (5,5,3), how to mulitply it by an array with dimensions (5,5)? (★★★)"
   ],
   "metadata": {
    "collapsed": false
   },
   "id": "642e474f8b0eebaa"
  },
  {
   "cell_type": "code",
   "outputs": [],
   "source": [],
   "metadata": {
    "collapsed": false,
    "ExecuteTime": {
     "end_time": "2024-02-08T08:09:36.121222Z",
     "start_time": "2024-02-08T08:09:36.090743Z"
    }
   },
   "id": "2587b0c8f442595",
   "execution_count": 31
  },
  {
   "cell_type": "markdown",
   "source": [
    "#### 72. How to swap two rows of an array? (★★★)"
   ],
   "metadata": {
    "collapsed": false
   },
   "id": "87e43d1f363be8f4"
  },
  {
   "cell_type": "code",
   "outputs": [],
   "source": [],
   "metadata": {
    "collapsed": false,
    "ExecuteTime": {
     "end_time": "2024-02-08T08:09:36.173850Z",
     "start_time": "2024-02-08T08:09:36.113410Z"
    }
   },
   "id": "43499fae500ea70c",
   "execution_count": 31
  },
  {
   "cell_type": "markdown",
   "source": [
    "#### 73. Consider a set of 10 triplets describing 10 triangles (with shared vertices), find the set of unique line segments composing all the  triangles (★★★)"
   ],
   "metadata": {
    "collapsed": false
   },
   "id": "5aa3c2bb24b49035"
  },
  {
   "cell_type": "code",
   "outputs": [],
   "source": [],
   "metadata": {
    "collapsed": false,
    "ExecuteTime": {
     "end_time": "2024-02-08T08:09:36.205697Z",
     "start_time": "2024-02-08T08:09:36.135213Z"
    }
   },
   "id": "b472206fd7dea020",
   "execution_count": 31
  },
  {
   "cell_type": "markdown",
   "source": [
    "#### 74. Given a sorted array C that corresponds to a bincount, how to produce an array A such that np.bincount(A) == C? (★★★)"
   ],
   "metadata": {
    "collapsed": false
   },
   "id": "c07908f82a766bea"
  },
  {
   "cell_type": "code",
   "outputs": [],
   "source": [],
   "metadata": {
    "collapsed": false,
    "ExecuteTime": {
     "end_time": "2024-02-08T08:09:36.266099Z",
     "start_time": "2024-02-08T08:09:36.204138Z"
    }
   },
   "id": "896ce32a85470ba6",
   "execution_count": 31
  },
  {
   "cell_type": "markdown",
   "source": [
    "#### 75. How to compute averages using a sliding window over an array? (★★★)"
   ],
   "metadata": {
    "collapsed": false
   },
   "id": "49f6d7b276c25643"
  },
  {
   "cell_type": "code",
   "outputs": [],
   "source": [],
   "metadata": {
    "collapsed": false,
    "ExecuteTime": {
     "end_time": "2024-02-08T08:09:36.284443Z",
     "start_time": "2024-02-08T08:09:36.256722Z"
    }
   },
   "id": "48274b59868640ee",
   "execution_count": 31
  },
  {
   "cell_type": "markdown",
   "source": [
    "#### 76. Consider a one-dimensional array Z, build a two-dimensional array whose first row is (Z[0],Z[1],Z[2]) and each subsequent row is  shifted by 1 (last row should be (Z[-3],Z[-2],Z[-1]) (★★★)"
   ],
   "metadata": {
    "collapsed": false
   },
   "id": "b7a43875f934e4a1"
  },
  {
   "cell_type": "code",
   "outputs": [],
   "source": [],
   "metadata": {
    "collapsed": false,
    "ExecuteTime": {
     "end_time": "2024-02-08T08:09:36.340214Z",
     "start_time": "2024-02-08T08:09:36.279482Z"
    }
   },
   "id": "bd8ffd35d3a4cc50",
   "execution_count": 31
  },
  {
   "cell_type": "markdown",
   "source": [
    "#### 77. How to negate a boolean, or to change the sign of a float inplace? (★★★)"
   ],
   "metadata": {
    "collapsed": false
   },
   "id": "4e26490990ba0258"
  },
  {
   "cell_type": "code",
   "outputs": [],
   "source": [],
   "metadata": {
    "collapsed": false,
    "ExecuteTime": {
     "end_time": "2024-02-08T08:09:36.369785Z",
     "start_time": "2024-02-08T08:09:36.301584Z"
    }
   },
   "id": "e0c61ae601b0c7cf",
   "execution_count": 31
  },
  {
   "cell_type": "markdown",
   "source": [
    "#### 78. Consider 2 sets of points P0,P1 describing lines (2d) and a point p, how to compute distance from p to each line i (P0[i],P1[i])? (★★★)"
   ],
   "metadata": {
    "collapsed": false
   },
   "id": "49a718a741e0b307"
  },
  {
   "cell_type": "code",
   "outputs": [],
   "source": [],
   "metadata": {
    "collapsed": false,
    "ExecuteTime": {
     "end_time": "2024-02-08T08:09:36.430921Z",
     "start_time": "2024-02-08T08:09:36.368269Z"
    }
   },
   "id": "f0381ac96ed1e26a",
   "execution_count": 31
  },
  {
   "cell_type": "markdown",
   "source": [
    "#### 79. Consider 2 sets of points P0,P1 describing lines (2d) and a set of points P, how to compute distance from each point j (P[j]) to each line i (P0[i],P1[i])? (★★★)"
   ],
   "metadata": {
    "collapsed": false
   },
   "id": "dafe0472eab70761"
  },
  {
   "cell_type": "code",
   "outputs": [],
   "source": [],
   "metadata": {
    "collapsed": false,
    "ExecuteTime": {
     "end_time": "2024-02-08T08:09:36.452395Z",
     "start_time": "2024-02-08T08:09:36.421261Z"
    }
   },
   "id": "7440990d6784cd20",
   "execution_count": 31
  },
  {
   "cell_type": "markdown",
   "source": [
    "#### 80. Consider an arbitrary array, write a function that extract a subpart with a fixed shape and centered on a given element (pad with a `fill` value when necessary) (★★★)"
   ],
   "metadata": {
    "collapsed": false
   },
   "id": "e86204a10298531c"
  },
  {
   "cell_type": "code",
   "outputs": [],
   "source": [],
   "metadata": {
    "collapsed": false,
    "ExecuteTime": {
     "end_time": "2024-02-08T08:09:36.503582Z",
     "start_time": "2024-02-08T08:09:36.447157Z"
    }
   },
   "id": "f4b4d508cdacd979",
   "execution_count": 31
  },
  {
   "cell_type": "markdown",
   "source": [
    "#### 81. Consider an array Z = [1,2,3,4,5,6,7,8,9,10,11,12,13,14], how to generate an array R = [[1,2,3,4], [2,3,4,5], [3,4,5,6], ..., [11,12,13,14]]? (★★★)"
   ],
   "metadata": {
    "collapsed": false
   },
   "id": "3d93cf2b73e95aa5"
  },
  {
   "cell_type": "code",
   "outputs": [],
   "source": [],
   "metadata": {
    "collapsed": false,
    "ExecuteTime": {
     "end_time": "2024-02-08T08:09:36.539233Z",
     "start_time": "2024-02-08T08:09:36.502431Z"
    }
   },
   "id": "816ad725ce93d17b",
   "execution_count": 31
  },
  {
   "cell_type": "markdown",
   "source": [
    "#### 82. Compute a matrix rank (★★★)"
   ],
   "metadata": {
    "collapsed": false
   },
   "id": "f2103e0fd6f531bc"
  },
  {
   "cell_type": "code",
   "outputs": [],
   "source": [],
   "metadata": {
    "collapsed": false,
    "ExecuteTime": {
     "end_time": "2024-02-08T08:09:36.599112Z",
     "start_time": "2024-02-08T08:09:36.528428Z"
    }
   },
   "id": "d24daddfca296d6c",
   "execution_count": 31
  },
  {
   "cell_type": "markdown",
   "source": [
    "#### 83. How to find the most frequent value in an array?"
   ],
   "metadata": {
    "collapsed": false
   },
   "id": "e10a580fe8c45c87"
  },
  {
   "cell_type": "code",
   "outputs": [],
   "source": [],
   "metadata": {
    "collapsed": false,
    "ExecuteTime": {
     "end_time": "2024-02-08T08:09:36.624196Z",
     "start_time": "2024-02-08T08:09:36.598490Z"
    }
   },
   "id": "825bd1ce8a9bbcbd",
   "execution_count": 31
  },
  {
   "cell_type": "markdown",
   "source": [
    "#### 84. Extract all the contiguous 3x3 blocks from a random 10x10 matrix (★★★)"
   ],
   "metadata": {
    "collapsed": false
   },
   "id": "6a29126012a6935f"
  },
  {
   "cell_type": "code",
   "outputs": [],
   "source": [],
   "metadata": {
    "collapsed": false,
    "ExecuteTime": {
     "end_time": "2024-02-08T08:09:36.678874Z",
     "start_time": "2024-02-08T08:09:36.615876Z"
    }
   },
   "id": "469d1fcb80d3ba43",
   "execution_count": 31
  },
  {
   "cell_type": "markdown",
   "source": [
    "#### 85. Create a 2D array subclass such that Z[i,j] == Z[j,i] (★★★)"
   ],
   "metadata": {
    "collapsed": false
   },
   "id": "8fd0a7c6713ac51f"
  },
  {
   "cell_type": "code",
   "outputs": [],
   "source": [],
   "metadata": {
    "collapsed": false,
    "ExecuteTime": {
     "end_time": "2024-02-08T08:09:36.701219Z",
     "start_time": "2024-02-08T08:09:36.634097Z"
    }
   },
   "id": "20dff21fc9cf5195",
   "execution_count": 31
  },
  {
   "cell_type": "markdown",
   "source": [
    "#### 86. Consider a set of p matrices with shape (n,n) and a set of p vectors with shape (n,1). How to compute the sum of of the p matrix products at once? (result has shape (n,1)) (★★★)"
   ],
   "metadata": {
    "collapsed": false
   },
   "id": "9b2e19ba82650451"
  },
  {
   "cell_type": "code",
   "outputs": [],
   "source": [],
   "metadata": {
    "collapsed": false,
    "ExecuteTime": {
     "end_time": "2024-02-08T08:09:36.761226Z",
     "start_time": "2024-02-08T08:09:36.699765Z"
    }
   },
   "id": "9827270bca7c27fb",
   "execution_count": 31
  },
  {
   "cell_type": "markdown",
   "source": [
    "#### 87. Consider a 16x16 array, how to get the block-sum (block size is 4x4)? (★★★)"
   ],
   "metadata": {
    "collapsed": false
   },
   "id": "f12c46fe1dfa5571"
  },
  {
   "cell_type": "code",
   "outputs": [],
   "source": [],
   "metadata": {
    "collapsed": false,
    "ExecuteTime": {
     "end_time": "2024-02-08T08:09:36.785045Z",
     "start_time": "2024-02-08T08:09:36.759569Z"
    }
   },
   "id": "2f2efbe07f04f47e",
   "execution_count": 31
  },
  {
   "cell_type": "markdown",
   "source": [
    "#### 88. How to implement the Game of Life using numpy arrays? (★★★)"
   ],
   "metadata": {
    "collapsed": false
   },
   "id": "79bedee65a928c4f"
  },
  {
   "cell_type": "code",
   "outputs": [],
   "source": [],
   "metadata": {
    "collapsed": false,
    "ExecuteTime": {
     "end_time": "2024-02-08T08:09:36.843503Z",
     "start_time": "2024-02-08T08:09:36.783693Z"
    }
   },
   "id": "9ca35e128f3a25da",
   "execution_count": 31
  },
  {
   "cell_type": "markdown",
   "source": [
    "#### 89. How to get the n largest values of an array (★★★)"
   ],
   "metadata": {
    "collapsed": false
   },
   "id": "552212b8408fd179"
  },
  {
   "cell_type": "code",
   "outputs": [],
   "source": [],
   "metadata": {
    "collapsed": false,
    "ExecuteTime": {
     "end_time": "2024-02-08T08:09:36.874620Z",
     "start_time": "2024-02-08T08:09:36.842187Z"
    }
   },
   "id": "7bc6fce51fe386b9",
   "execution_count": 31
  },
  {
   "cell_type": "markdown",
   "source": [
    "#### 90. Given an arbitrary number of vectors, build the cartesian product (every combinations of every item) (★★★)"
   ],
   "metadata": {
    "collapsed": false
   },
   "id": "b51ce31ee60ba9a9"
  },
  {
   "cell_type": "code",
   "outputs": [],
   "source": [],
   "metadata": {
    "collapsed": false,
    "ExecuteTime": {
     "end_time": "2024-02-08T08:09:36.931026Z",
     "start_time": "2024-02-08T08:09:36.862687Z"
    }
   },
   "id": "e880a06e3be944e3",
   "execution_count": 31
  },
  {
   "cell_type": "markdown",
   "source": [
    "#### 91. How to create a record array from a regular array? (★★★)"
   ],
   "metadata": {
    "collapsed": false
   },
   "id": "65f27140aee45a29"
  },
  {
   "cell_type": "code",
   "outputs": [],
   "source": [],
   "metadata": {
    "collapsed": false,
    "ExecuteTime": {
     "end_time": "2024-02-08T08:09:36.951977Z",
     "start_time": "2024-02-08T08:09:36.884425Z"
    }
   },
   "id": "eb058a84e18c7693",
   "execution_count": 31
  },
  {
   "cell_type": "markdown",
   "source": [
    "#### 92. Consider a large vector Z, compute Z to the power of 3 using 3 different methods (★★★)"
   ],
   "metadata": {
    "collapsed": false
   },
   "id": "5d2cae0037d36412"
  },
  {
   "cell_type": "code",
   "outputs": [],
   "source": [],
   "metadata": {
    "collapsed": false,
    "ExecuteTime": {
     "end_time": "2024-02-08T08:09:37.017058Z",
     "start_time": "2024-02-08T08:09:36.950682Z"
    }
   },
   "id": "919688fd6d9d1676",
   "execution_count": 31
  },
  {
   "cell_type": "markdown",
   "source": [
    "#### 93. Consider two arrays A and B of shape (8,3) and (2,2). How to find rows of A that contain elements of each row of B regardless of the order of the elements in B? (★★★)"
   ],
   "metadata": {
    "collapsed": false
   },
   "id": "a525d93db0d0f066"
  },
  {
   "cell_type": "code",
   "outputs": [],
   "source": [],
   "metadata": {
    "collapsed": false,
    "ExecuteTime": {
     "end_time": "2024-02-08T08:09:37.049409Z",
     "start_time": "2024-02-08T08:09:37.013218Z"
    }
   },
   "id": "84fa138fcf847a30",
   "execution_count": 31
  },
  {
   "cell_type": "markdown",
   "source": [
    "#### 94. Considering a 10x3 matrix, extract rows with unequal values (e.g. [2,2,3]) (★★★)"
   ],
   "metadata": {
    "collapsed": false
   },
   "id": "8966b86259b3b5d2"
  },
  {
   "cell_type": "code",
   "outputs": [],
   "source": [],
   "metadata": {
    "collapsed": false,
    "ExecuteTime": {
     "end_time": "2024-02-08T08:09:37.100727Z",
     "start_time": "2024-02-08T08:09:37.036875Z"
    }
   },
   "id": "7ca21d9f80f1ff83",
   "execution_count": 31
  },
  {
   "cell_type": "markdown",
   "source": [
    "#### 95. Convert a vector of ints into a matrix binary representation (★★★)"
   ],
   "metadata": {
    "collapsed": false
   },
   "id": "ba286e70be6a8344"
  },
  {
   "cell_type": "code",
   "outputs": [],
   "source": [],
   "metadata": {
    "collapsed": false,
    "ExecuteTime": {
     "end_time": "2024-02-08T08:09:37.134792Z",
     "start_time": "2024-02-08T08:09:37.099524Z"
    }
   },
   "id": "618fac5d6f66b675",
   "execution_count": 31
  },
  {
   "cell_type": "markdown",
   "source": [
    "#### 96. Given a two dimensional array, how to extract unique rows? (★★★)"
   ],
   "metadata": {
    "collapsed": false
   },
   "id": "15c81545e7c08e6f"
  },
  {
   "cell_type": "code",
   "outputs": [],
   "source": [],
   "metadata": {
    "collapsed": false,
    "ExecuteTime": {
     "end_time": "2024-02-08T08:09:37.199628Z",
     "start_time": "2024-02-08T08:09:37.125192Z"
    }
   },
   "id": "9456844cf974b00b",
   "execution_count": 31
  },
  {
   "cell_type": "markdown",
   "source": [
    "#### 97. Considering 2 vectors A & B, write the einsum equivalent of inner, outer, sum, and mul function (★★★)"
   ],
   "metadata": {
    "collapsed": false
   },
   "id": "6b547c4fc05bd341"
  },
  {
   "cell_type": "code",
   "outputs": [],
   "source": [],
   "metadata": {
    "collapsed": false,
    "ExecuteTime": {
     "end_time": "2024-02-08T08:09:37.268698Z",
     "start_time": "2024-02-08T08:09:37.198553Z"
    }
   },
   "id": "6d360c836059e28e",
   "execution_count": 31
  },
  {
   "cell_type": "markdown",
   "source": [
    "#### 98. Considering a path described by two vectors (X,Y), how to sample it using equidistant samples (★★★)?"
   ],
   "metadata": {
    "collapsed": false
   },
   "id": "8d4eb81d7bbe3634"
  },
  {
   "cell_type": "code",
   "outputs": [],
   "source": [],
   "metadata": {
    "collapsed": false,
    "ExecuteTime": {
     "end_time": "2024-02-08T08:09:37.342205Z",
     "start_time": "2024-02-08T08:09:37.264483Z"
    }
   },
   "id": "b7fe1a5f79f32309",
   "execution_count": 31
  },
  {
   "cell_type": "markdown",
   "source": [
    "#### 99. Given an integer n and a 2D array X, select from X the rows which can be interpreted as draws from a multinomial distribution with n degrees, i.e., the rows which only contain integers and which sum to n. (★★★)"
   ],
   "metadata": {
    "collapsed": false
   },
   "id": "acad7408a557dbad"
  },
  {
   "cell_type": "code",
   "outputs": [],
   "source": [],
   "metadata": {
    "collapsed": false,
    "ExecuteTime": {
     "end_time": "2024-02-08T08:09:37.364955Z",
     "start_time": "2024-02-08T08:09:37.340787Z"
    }
   },
   "id": "2edb708b77e862fb",
   "execution_count": 31
  },
  {
   "cell_type": "markdown",
   "source": [
    "#### 100. Compute bootstrapped 95% confidence intervals for the mean of a 1D array X (i.e., resample the elements of an array with replacement N times, compute the mean of each sample, and then compute percentiles over the means). (★★★)"
   ],
   "metadata": {
    "collapsed": false
   },
   "id": "9f5d35ef074fd44d"
  },
  {
   "cell_type": "code",
   "outputs": [],
   "source": [],
   "metadata": {
    "collapsed": false,
    "ExecuteTime": {
     "end_time": "2024-02-08T08:09:37.418558Z",
     "start_time": "2024-02-08T08:09:37.363265Z"
    }
   },
   "id": "26d876b3e406c9d9",
   "execution_count": 31
  }
 ],
 "metadata": {
  "kernelspec": {
   "name": "python3",
   "language": "python",
   "display_name": "Python 3 (ipykernel)"
  }
 },
 "nbformat": 4,
 "nbformat_minor": 5
}
